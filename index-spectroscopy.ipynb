{
 "cells": [
  {
   "cell_type": "markdown",
   "id": "0",
   "metadata": {},
   "source": [
    "# Tutorial Series on Spectroscopic Data Reduction Basics\n",
    "\n",
    "This is a set of tutorials on working with spectroscopic data. We will walk through the derivation of a spectroscopic trace model and extraction using astropy tools, extraction of a calibration lamp spectrum using an existing trace and identification using the NIST line list database, how to fit a wavelength solution to a calibration spectrum, how to apply a trace and a wavelength solution to science data, and how to do basic analysis like line fitting.\n"
   ]
  }
 ],
 "metadata": {
  "language_info": {
   "name": "python"
  }
 },
 "nbformat": 4,
 "nbformat_minor": 5
}
